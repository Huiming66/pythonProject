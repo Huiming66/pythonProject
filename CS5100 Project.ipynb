{
 "cells": [
  {
   "cell_type": "markdown",
   "metadata": {
    "id": "e45re3eg52BN"
   },
   "source": []
  },
  {
   "cell_type": "markdown",
   "metadata": {
    "id": "4hYDQD4L6Fw-"
   },
   "source": [
    "# CS5100 Group Project"
   ]
  },
  {
   "cell_type": "code",
   "execution_count": 71,
   "metadata": {
    "colab": {
     "base_uri": "https://localhost:8080/"
    },
    "executionInfo": {
     "elapsed": 1459,
     "status": "ok",
     "timestamp": 1667972200534,
     "user": {
      "displayName": "Molly Wu",
      "userId": "03909985068327571419"
     },
     "user_tz": 480
    },
    "id": "VETmc0vw5pB5",
    "outputId": "b54c48d6-168e-4a77-f37a-016792c350e1"
   },
   "outputs": [],
   "source": [
    "# from google.colab import drive\n",
    "# drive.mount('/content/drive')"
   ]
  },
  {
   "cell_type": "code",
   "execution_count": 72,
   "metadata": {
    "colab": {
     "base_uri": "https://localhost:8080/"
    },
    "executionInfo": {
     "elapsed": 226,
     "status": "ok",
     "timestamp": 1667972200758,
     "user": {
      "displayName": "Molly Wu",
      "userId": "03909985068327571419"
     },
     "user_tz": 480
    },
    "id": "gSA2le9pRQmR",
    "outputId": "1a4aea74-6ade-4fc8-daf1-e10b4f954b30"
   },
   "outputs": [],
   "source": [
    "# %cd /content/drive/MyDrive/Github/\n",
    "# !git init cs5100"
   ]
  },
  {
   "cell_type": "code",
   "execution_count": 73,
   "metadata": {
    "colab": {
     "base_uri": "https://localhost:8080/"
    },
    "executionInfo": {
     "elapsed": 8,
     "status": "ok",
     "timestamp": 1667972200758,
     "user": {
      "displayName": "Molly Wu",
      "userId": "03909985068327571419"
     },
     "user_tz": 480
    },
    "id": "gvEdaSaOlw1l",
    "outputId": "97a13ee0-ba34-45e3-c551-283aadea8b58"
   },
   "outputs": [],
   "source": [
    "# %cd cs5100/"
   ]
  },
  {
   "cell_type": "code",
   "execution_count": 74,
   "metadata": {
    "colab": {
     "base_uri": "https://localhost:8080/"
    },
    "executionInfo": {
     "elapsed": 7,
     "status": "ok",
     "timestamp": 1667972200759,
     "user": {
      "displayName": "Molly Wu",
      "userId": "03909985068327571419"
     },
     "user_tz": 480
    },
    "id": "9je4-LQYl2Xs",
    "outputId": "c2086aa6-9e5b-401e-c8cb-ea49fef2bca0"
   },
   "outputs": [],
   "source": [
    "# %ls -a"
   ]
  },
  {
   "cell_type": "code",
   "execution_count": 75,
   "metadata": {
    "colab": {
     "base_uri": "https://localhost:8080/"
    },
    "executionInfo": {
     "elapsed": 203,
     "status": "ok",
     "timestamp": 1667972200959,
     "user": {
      "displayName": "Molly Wu",
      "userId": "03909985068327571419"
     },
     "user_tz": 480
    },
    "id": "6sAfj7jSl7XG",
    "outputId": "069655df-f4f3-4ea8-ef62-91cbcdeefd76"
   },
   "outputs": [],
   "source": [
    "# !git status\n"
   ]
  },
  {
   "cell_type": "code",
   "execution_count": 76,
   "metadata": {
    "executionInfo": {
     "elapsed": 8,
     "status": "ok",
     "timestamp": 1667972200959,
     "user": {
      "displayName": "Molly Wu",
      "userId": "03909985068327571419"
     },
     "user_tz": 480
    },
    "id": "M0shgyVDiTDU"
   },
   "outputs": [],
   "source": [
    "# Import libraries\n",
    "import tensorflow\n",
    "import pandas as pd\n",
    "import numpy as np\n",
    "import matplotlib.pyplot as plt\n",
    "%matplotlib inline\n",
    "from matplotlib.pylab import rcParams\n",
    "rcParams['figure.figsize']=20,10\n",
    "from keras.models import Sequential\n",
    "from keras.layers import LSTM,Dropout,Dense\n",
    "from sklearn.preprocessing import MinMaxScaler"
   ]
  },
  {
   "cell_type": "code",
   "execution_count": 77,
   "metadata": {
    "colab": {
     "base_uri": "https://localhost:8080/",
     "height": 250
    },
    "executionInfo": {
     "elapsed": 8,
     "status": "ok",
     "timestamp": 1667972200960,
     "user": {
      "displayName": "Molly Wu",
      "userId": "03909985068327571419"
     },
     "user_tz": 480
    },
    "id": "syNGrcWRpDYQ",
    "outputId": "ab1515b2-0897-4823-f9b3-55d15ab43e46"
   },
   "outputs": [
    {
     "data": {
      "text/plain": "         Date    Open    High     Low    Last   Close  Total Trade Quantity  \\\n0  2018-10-08  208.00  222.25  206.85  216.00  215.15             4642146.0   \n1  2018-10-05  217.00  218.60  205.90  210.25  209.20             3519515.0   \n2  2018-10-04  223.50  227.80  216.15  217.25  218.20             1728786.0   \n3  2018-10-03  230.00  237.50  225.75  226.45  227.60             1708590.0   \n4  2018-10-01  234.55  234.60  221.05  230.30  230.90             1534749.0   \n\n   Turnover (Lacs)  \n0         10062.83  \n1          7407.06  \n2          3815.79  \n3          3960.27  \n4          3486.05  ",
      "text/html": "<div>\n<style scoped>\n    .dataframe tbody tr th:only-of-type {\n        vertical-align: middle;\n    }\n\n    .dataframe tbody tr th {\n        vertical-align: top;\n    }\n\n    .dataframe thead th {\n        text-align: right;\n    }\n</style>\n<table border=\"1\" class=\"dataframe\">\n  <thead>\n    <tr style=\"text-align: right;\">\n      <th></th>\n      <th>Date</th>\n      <th>Open</th>\n      <th>High</th>\n      <th>Low</th>\n      <th>Last</th>\n      <th>Close</th>\n      <th>Total Trade Quantity</th>\n      <th>Turnover (Lacs)</th>\n    </tr>\n  </thead>\n  <tbody>\n    <tr>\n      <th>0</th>\n      <td>2018-10-08</td>\n      <td>208.00</td>\n      <td>222.25</td>\n      <td>206.85</td>\n      <td>216.00</td>\n      <td>215.15</td>\n      <td>4642146.0</td>\n      <td>10062.83</td>\n    </tr>\n    <tr>\n      <th>1</th>\n      <td>2018-10-05</td>\n      <td>217.00</td>\n      <td>218.60</td>\n      <td>205.90</td>\n      <td>210.25</td>\n      <td>209.20</td>\n      <td>3519515.0</td>\n      <td>7407.06</td>\n    </tr>\n    <tr>\n      <th>2</th>\n      <td>2018-10-04</td>\n      <td>223.50</td>\n      <td>227.80</td>\n      <td>216.15</td>\n      <td>217.25</td>\n      <td>218.20</td>\n      <td>1728786.0</td>\n      <td>3815.79</td>\n    </tr>\n    <tr>\n      <th>3</th>\n      <td>2018-10-03</td>\n      <td>230.00</td>\n      <td>237.50</td>\n      <td>225.75</td>\n      <td>226.45</td>\n      <td>227.60</td>\n      <td>1708590.0</td>\n      <td>3960.27</td>\n    </tr>\n    <tr>\n      <th>4</th>\n      <td>2018-10-01</td>\n      <td>234.55</td>\n      <td>234.60</td>\n      <td>221.05</td>\n      <td>230.30</td>\n      <td>230.90</td>\n      <td>1534749.0</td>\n      <td>3486.05</td>\n    </tr>\n  </tbody>\n</table>\n</div>"
     },
     "execution_count": 77,
     "metadata": {},
     "output_type": "execute_result"
    }
   ],
   "source": [
    "df=pd.read_csv(\"NSE-TATA.csv\")\n",
    "df.head()"
   ]
  },
  {
   "cell_type": "code",
   "execution_count": 89,
   "metadata": {
    "colab": {
     "base_uri": "https://localhost:8080/"
    },
    "executionInfo": {
     "elapsed": 214,
     "status": "ok",
     "timestamp": 1667972264173,
     "user": {
      "displayName": "Molly Wu",
      "userId": "03909985068327571419"
     },
     "user_tz": 480
    },
    "id": "TZQMnT6Eyqo1",
    "outputId": "4c98b9ab-2770-46ac-8d50-a7dc6e37cc09"
   },
   "outputs": [],
   "source": [
    "# !p2j stock_app.py"
   ]
  },
  {
   "cell_type": "code",
   "execution_count": 89,
   "metadata": {},
   "outputs": [],
   "source": []
  }
 ],
 "metadata": {
  "colab": {
   "collapsed_sections": [],
   "provenance": []
  },
  "kernelspec": {
   "display_name": "Python 3.8.9 64-bit",
   "language": "python",
   "name": "python3"
  },
  "language_info": {
   "codemirror_mode": {
    "name": "ipython",
    "version": 3
   },
   "file_extension": ".py",
   "mimetype": "text/x-python",
   "name": "python",
   "nbconvert_exporter": "python",
   "pygments_lexer": "ipython3",
   "version": "3.8.9"
  },
  "vscode": {
   "interpreter": {
    "hash": "31f2aee4e71d21fbe5cf8b01ff0e069b9275f58929596ceb00d14d90e3e16cd6"
   }
  }
 },
 "nbformat": 4,
 "nbformat_minor": 1
}
